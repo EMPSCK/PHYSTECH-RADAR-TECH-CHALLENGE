{
 "cells": [
  {
   "cell_type": "markdown",
   "metadata": {},
   "source": [
    "# PHYSTECH RADAR TECH CHALLENGE"
   ]
  },
  {
   "cell_type": "code",
   "execution_count": 7,
   "metadata": {},
   "outputs": [],
   "source": [
    "import pandas as pd\n",
    "import numpy as np\n",
    "import time"
   ]
  },
  {
   "cell_type": "markdown",
   "metadata": {},
   "source": [
    "#### Читаем и отображаем матрицу смежности"
   ]
  },
  {
   "cell_type": "code",
   "execution_count": 8,
   "metadata": {},
   "outputs": [],
   "source": [
    "compatibility_matrix = np.array(pd.read_csv('input_with_weights.csv', header=None))\n",
    "weights = compatibility_matrix[-1]\n",
    "compatibility_matrix = np.delete(compatibility_matrix, -1, 0)"
   ]
  },
  {
   "cell_type": "code",
   "execution_count": 9,
   "metadata": {},
   "outputs": [],
   "source": [
    "n = len(compatibility_matrix)\n",
    "for i in range(n):\n",
    "    for j in range(i + 1, n):\n",
    "        compatibility_matrix[j][i] = compatibility_matrix[i][j]"
   ]
  },
  {
   "cell_type": "markdown",
   "metadata": {},
   "source": [
    "#### Создаем список смежности"
   ]
  },
  {
   "cell_type": "code",
   "execution_count": 10,
   "metadata": {},
   "outputs": [],
   "source": [
    "a = {i: [j for j in range(n) if compatibility_matrix[i][j] == 1 ] for i in range(n)}"
   ]
  },
  {
   "cell_type": "code",
   "execution_count": 18,
   "metadata": {},
   "outputs": [
    {
     "name": "stdout",
     "output_type": "stream",
     "text": [
      "[[66.27329999999999, [1, 17, 20, 0, 8, 3, 13, 4, 5, 11, 12, 18, 19, 24]], [69.99359999999999, [6, 20, 0, 7, 8, 1, 13, 21, 4, 5, 9, 11, 12, 18, 19, 24, 27]], [74.40809999999999, [7, 17, 20, 0, 8, 22, 13, 4, 5, 11, 12, 18, 19, 24]], [75.3954, [10, 17, 0, 1, 7, 20, 13, 4, 5, 11, 12, 18, 19, 24]], [82.92119999999998, [16, 0, 1, 7, 6, 10, 13, 21, 4, 5, 9, 11, 12, 18, 19, 24, 26, 27]]]\n"
     ]
    }
   ],
   "source": [
    "#Функция для сортировки списка соседей вершины: возвращаем количество соседей соседей, которые согласуются с траекториями в компоненте\n",
    "def key_sort(index):\n",
    "    aneibors = a[index]\n",
    "    count = 0\n",
    "    for j in aneibors:\n",
    "        if all(i in a[j] for i in path) and j not in path:\n",
    "            count += 1\n",
    "    return count\n",
    "\n",
    "#Список для хранения 5 лучших глобальных гипотез\n",
    "bestfive = [[0, []] for i in range(5)]\n",
    "\n",
    "#Сортировка вставками\n",
    "def add_to_best(el):\n",
    "    i = 4\n",
    "    if bestfive[i][0] >= el[0]:\n",
    "        return\n",
    "    while i != -1 and bestfive[i][0] < el[0]:\n",
    "         bestfive[i], el =  el, bestfive[i]\n",
    "         i = i - 1\n",
    "\n",
    "\n",
    "#Поиск в ширину\n",
    "for i in range(28):\n",
    "    queue = [i]\n",
    "    path = [i]\n",
    "    weight = weights[i]\n",
    "    while queue:\n",
    "        v = queue.pop(-1)\n",
    "        neibors = a[v]\n",
    "        neibors.sort(key=key_sort)\n",
    "        for neibor in neibors:\n",
    "            if all(i in a[neibor] for i in path) and neibor not in path:#Проверяем, есть ли вершина в созданной компоненте, согласуется ли она с траекториями в ней\n",
    "                weight += weights[neibor]\n",
    "                path = path + [neibor]\n",
    "                queue = queue + [neibor]\n",
    "    add_to_best([weight, path])\n",
    "\n",
    "print(bestfive)"
   ]
  }
 ],
 "metadata": {
  "kernelspec": {
   "display_name": "Python 3",
   "language": "python",
   "name": "python3"
  },
  "language_info": {
   "codemirror_mode": {
    "name": "ipython",
    "version": 3
   },
   "file_extension": ".py",
   "mimetype": "text/x-python",
   "name": "python",
   "nbconvert_exporter": "python",
   "pygments_lexer": "ipython3",
   "version": "3.10.0"
  }
 },
 "nbformat": 4,
 "nbformat_minor": 2
}
